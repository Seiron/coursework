{
 "cells": [
  {
   "cell_type": "markdown",
   "metadata": {},
   "source": [
    "# Предвзятость алгоритма ранжирования товаров Ozon - ML-подход\n",
    "\n",
    "В [наивном подходе](https://github.com/Seiron/coursework/blob/main/naiive_analysis.ipynb) предполагается, что лишь одна прокси-переменная определяет логику ранжирования товаров в поисковой выдаче, что позволяло использовать меньше информации при оценке предвзятости. Но, во-первых, очевидно, что на алгоритм ранжирования будут влиять и отзывы, и участие в распродажах, и прочие параметры. Во-вторых, наивный подход не сможет засечь небольшую предвзятость в ранжировании. В таком случае логичнее попытаться воссоздать алгоритм ранжирования товаров Ozon на основе всех существенных параметров. Поэтому в данном ноутбуке 2 задачи:\n",
    "\n",
    "1. Подтвердить результаты наивного подхода\n",
    "2. Оценить, насколько точнее работает подход на основе методов машинного обучения"
   ]
  },
  {
   "cell_type": "markdown",
   "metadata": {},
   "source": [
    "### Загрузка необходимых библиотек и данных"
   ]
  },
  {
   "cell_type": "code",
   "execution_count": 2,
   "metadata": {},
   "outputs": [],
   "source": [
    "import warnings\n",
    "warnings.filterwarnings(\"ignore\", category=RuntimeWarning)\n",
    "import pandas as pd\n",
    "import numpy as np\n",
    "from sklearn.preprocessing import LabelEncoder\n",
    "from scipy import stats\n",
    "import xgboost as xgb\n",
    "import matplotlib.pyplot as plt\n",
    "import seaborn as sns\n",
    "from sklearn.model_selection import train_test_split, GridSearchCV\n",
    "from sklearn.metrics import mean_squared_error, ndcg_score\n",
    "pd.options.mode.chained_assignment = None"
   ]
  },
  {
   "cell_type": "markdown",
   "metadata": {},
   "source": [
    "В качестве датасета снова используем датасет [algo_data.csv](https://github.com/Seiron/coursework/blob/main/algo_data.csv), представляющий собой данные, полученные автором путем парсинга поисковой выдачи сайта Ozon по ряду неспецифических запросов (\"query\" в датасете), соединенные с данными с сервиса Ozon.Data"
   ]
  },
  {
   "cell_type": "code",
   "execution_count": 3,
   "metadata": {},
   "outputs": [],
   "source": [
    "data = pd.read_csv(\"algo_data.csv\")"
   ]
  },
  {
   "cell_type": "code",
   "execution_count": 4,
   "metadata": {},
   "outputs": [],
   "source": [
    "label_encoder = LabelEncoder()\n",
    "data['Схема работы'] = label_encoder.fit_transform(data['Схема работы'])\n",
    "data['query'] = label_encoder.fit_transform(data['query'])\n",
    "data['Super-товар'] = label_encoder.fit_transform(data['Super-товар'])\n",
    "data['price'] = (data[\"price\"])\n",
    "\n",
    "ozon_data = data[data['sellers'].str.contains('OZON', na=False)]\n",
    "inference_data = data.drop([\"url\",\"sellers\",\"rank\",'product_name'], axis=1)\n"
   ]
  },
  {
   "cell_type": "markdown",
   "metadata": {},
   "source": [
    "Общая логика подхода следующая: обучим модель на данных о ранжировании товаров Ozon. Если взять алгоритм ранжирования товаров Ozon как эталонный, то, в случае отсутствия предвзятости алгоритма к товарам сторонних продавцов, отклонения от реальных рангов товаров, если они будут, должны не сильно отличаться для товаров сторонних продавцов и товаров Ozon. Выберем 5 запросов, на которых модель будет обучаться и 1 запрос оставим для инференса (в инференс включаем и товары Ozon, и товары сторонних продавцов по запросу №6)"
   ]
  },
  {
   "cell_type": "code",
   "execution_count": 5,
   "metadata": {},
   "outputs": [],
   "source": [
    "query_values = [0, 1,2, 3, 4]\n",
    "ozon_data = ozon_data[ozon_data[\"query\"].isin(query_values)]\n",
    "qid = ozon_data[\"query\"]\n",
    "X = ozon_data.drop([\"url\",\"sellers\",\"rank\",'product_name'], axis=1)\n",
    "X = X.sort_values(by='query')\n",
    "y = ozon_data.groupby('query').cumcount()\n",
    "inference_data = data.drop([\"url\",\"sellers\",\"rank\",'product_name'], axis=1)"
   ]
  },
  {
   "cell_type": "markdown",
   "metadata": {},
   "source": [
    "Оптимизируем по метрике $NDCG@k = \\frac {DCG@k} {IDCG@k}$,      \n",
    "где     \n",
    "$DCG@k=\\sum_{i=1}^k\\frac {rel_i} {log_2(i+1)}$    \n",
    "\n",
    "$IDCG@k - Ideal DCG$"
   ]
  },
  {
   "cell_type": "code",
   "execution_count": 6,
   "metadata": {},
   "outputs": [
    {
     "name": "stdout",
     "output_type": "stream",
     "text": [
      "Fitting 10 folds for each of 3750 candidates, totalling 37500 fits\n",
      "Best parameters:  {'colsample_bytree': 0.1, 'eta': 0.01, 'max_depth': 1, 'min_child_weight': 2, 'subsample': 0.325}\n",
      "Normalized Discounted Cumulative Gain (NDCG): 0.7853620222938447\n"
     ]
    }
   ],
   "source": [
    "\n",
    "X_train, X_test, y_train, y_test = train_test_split(X, y, test_size=0.2, random_state=42)\n",
    "\n",
    "dtrain = xgb.DMatrix(X_train, label=y_train)\n",
    "dtest = xgb.DMatrix(X_test, label=y_test)\n",
    "\n",
    "num_boost_round = 100\n",
    "\n",
    "param_grid = {\n",
    "    'max_depth': np.linspace(1, 10, 10, dtype=int),\n",
    "    'min_child_weight': np.linspace(0.1, 10, 5, dtype=int),\n",
    "    'subsample': np.linspace(0.1, 1.0, 5),\n",
    "    'colsample_bytree': np.linspace(0.1, 1.0, 5),\n",
    "    'eta': [1e-4,1e-3, 1e-2]\n",
    "}\n",
    "\n",
    "\n",
    "xgb_model = xgb.XGBRegressor(objective='rank:ndcg', eval_metric='ndcg', ndcg_exp_gain=False)\n",
    "\n",
    "grid_search = GridSearchCV(estimator=xgb_model, param_grid=param_grid, cv=10, scoring='neg_mean_squared_error', verbose=1, n_jobs=-1)\n",
    "grid_search.fit(X_train, y_train)\n",
    "\n",
    "print(\"Best parameters: \", grid_search.best_params_)\n",
    "\n",
    "best_params = grid_search.best_params_\n",
    "best_xgb_model = xgb.XGBRegressor(objective='rank:ndcg', eval_metric='ndcg', ndcg_exp_gain=False, **best_params)\n",
    "\n",
    "best_xgb_model.fit(X_train, y_train)\n",
    "\n",
    "predictions = best_xgb_model.predict(X_test)\n",
    "\n",
    "y_test_array = y_test.to_numpy()\n",
    "predictions_array = predictions\n",
    "\n",
    "predicted_ranks = np.argsort(-predictions)\n",
    "\n",
    "ndcg = ndcg_score([y_test], [predicted_ranks])\n",
    "print(f'Normalized Discounted Cumulative Gain (NDCG): {ndcg}')\n",
    "\n",
    "def get_top_n_recommendations(data, n=5):\n",
    "    data['prediction'] = best_xgb_model.predict(data)\n",
    "    top_n_items = data.sort_values(by='prediction', ascending=True).head(n)\n",
    "    return top_n_items"
   ]
  },
  {
   "cell_type": "markdown",
   "metadata": {},
   "source": [
    "Результаты достаточно хорошие. Хотелось бы сделать тренировочный сет больше, но есть ограничения по времени парсинга информации + факт неточного совпадения с данными Ozon.Data из-за постоянно меняющихся url карточек товаров"
   ]
  },
  {
   "cell_type": "code",
   "execution_count": 7,
   "metadata": {},
   "outputs": [
    {
     "data": {
      "text/plain": [
       "'import lightgbm as lgb\\nfrom sklearn.datasets import load_svmlight_file\\nfrom sklearn.model_selection import train_test_split\\nfrom sklearn.metrics import ndcg_score\\nX = ozon_data.drop([\"url\",\"sellers\",\"rank\",\\'product_name\\',\\'query\\'], axis=1)\\n\\nparams = {\\n    \\'boosting_type\\': \\'gbdt\\',\\n    \\'objective\\': \\'lambdarank\\',\\n    \\'metric\\': \\'ndcg\\',\\n    \\'num_leaves\\': 31,\\n    \\'learning_rate\\': 0.001,\\n    \\'feature_fraction\\': 0.09,\\n    \\'bagging_fraction\\': 0.8,\\n    \\'bagging_freq\\': 50,\\n    \\'verbose\\': 0,\\n    \\'label_gain\\': np.arange(2400)\\n}\\n\\nX_train, X_val, y_train, y_val, qid_train, qid_val = train_test_split(X, y, qid, test_size=0.1, random_state=42)\\n\\ntrain_data = lgb.Dataset(X_train, label=y_train, group=np.array([185,108,40,26,15,5]))\\nval_data = lgb.Dataset(X_val, label=y_val, group=np.array([19, 14, 4, 3, 2, 1]))\\n\\nnum_round = 10000\\nbst = lgb.train(params, train_data, num_round, valid_sets=[val_data])\\n\\n# Predict on test set\\ny_pred = bst.predict(X_val)\\n\\n# Evaluate the model using NDCG\\npredicted_ranks = np.argsort(-y_pred)\\n\\nndcg = ndcg_score([y_val], [predicted_ranks])\\nprint(\"NDCG Score on Test Set:\", ndcg)\\n\\ndef get_top_n_recommendations(data, n=5):\\n    data[\\'prediction\\'] = bst.predict(data, predict_disable_shape_check=True)\\n    top_n_items = data.sort_values(by=\\'prediction\\', ascending=True).head(n)\\n    return top_n_items'"
      ]
     },
     "execution_count": 7,
     "metadata": {},
     "output_type": "execute_result"
    }
   ],
   "source": [
    "\"\"\"import lightgbm as lgb\n",
    "from sklearn.datasets import load_svmlight_file\n",
    "from sklearn.model_selection import train_test_split\n",
    "from sklearn.metrics import ndcg_score\n",
    "X = ozon_data.drop([\"url\",\"sellers\",\"rank\",'product_name','query'], axis=1)\n",
    "\n",
    "params = {\n",
    "    'boosting_type': 'gbdt',\n",
    "    'objective': 'lambdarank',\n",
    "    'metric': 'ndcg',\n",
    "    'num_leaves': 31,\n",
    "    'learning_rate': 0.001,\n",
    "    'feature_fraction': 0.09,\n",
    "    'bagging_fraction': 0.8,\n",
    "    'bagging_freq': 50,\n",
    "    'verbose': 0,\n",
    "    'label_gain': np.arange(2400)\n",
    "}\n",
    "\n",
    "X_train, X_val, y_train, y_val, qid_train, qid_val = train_test_split(X, y, qid, test_size=0.1, random_state=42)\n",
    "\n",
    "train_data = lgb.Dataset(X_train, label=y_train, group=np.array([185,108,40,26,15,5]))\n",
    "val_data = lgb.Dataset(X_val, label=y_val, group=np.array([19, 14, 4, 3, 2, 1]))\n",
    "\n",
    "num_round = 10000\n",
    "bst = lgb.train(params, train_data, num_round, valid_sets=[val_data])\n",
    "\n",
    "# Predict on test set\n",
    "y_pred = bst.predict(X_val)\n",
    "\n",
    "# Evaluate the model using NDCG\n",
    "predicted_ranks = np.argsort(-y_pred)\n",
    "\n",
    "ndcg = ndcg_score([y_val], [predicted_ranks])\n",
    "print(\"NDCG Score on Test Set:\", ndcg)\n",
    "\n",
    "def get_top_n_recommendations(data, n=5):\n",
    "    data['prediction'] = bst.predict(data, predict_disable_shape_check=True)\n",
    "    top_n_items = data.sort_values(by='prediction', ascending=True).head(n)\n",
    "    return top_n_items\"\"\""
   ]
  },
  {
   "cell_type": "markdown",
   "metadata": {},
   "source": [
    "(Альтернативно можно использовать LambdaMART, но результаты оказались хуже)"
   ]
  },
  {
   "cell_type": "markdown",
   "metadata": {},
   "source": [
    "Теперь предскажем ранги как для товаров Ozon, так и для товаров сторонних продавцов"
   ]
  },
  {
   "cell_type": "code",
   "execution_count": 8,
   "metadata": {},
   "outputs": [],
   "source": [
    "top_recommendations = get_top_n_recommendations(inference_data[inference_data[\"query\"].isin([5])], n=10000)"
   ]
  },
  {
   "cell_type": "code",
   "execution_count": 20,
   "metadata": {},
   "outputs": [],
   "source": [
    "top_recommendations['recom_rank'] = top_recommendations['prediction'].rank(method='first', ascending=True)\n",
    "check = pd.merge(top_recommendations, data)\n",
    "check[\"rank_diff\"] = -check[\"recom_rank\"] + check[\"rank\"]\n",
    "check_ozon = check[check['sellers'].str.contains('OZON', na=False)]\n",
    "check_3p = check[~check['sellers'].str.contains('OZON', na=False)]\n"
   ]
  },
  {
   "cell_type": "code",
   "execution_count": 21,
   "metadata": {},
   "outputs": [
    {
     "data": {
      "image/png": "[encoded data removed]",
      "text/plain": [
       "<Figure size 640x480 with 1 Axes>"
      ]
     },
     "metadata": {},
     "output_type": "display_data"
    }
   ],
   "source": [
    "sns.kdeplot(check_ozon['rank_diff'], fill=True, label='Разность рангов Ozon', color=(0,0,0))\n",
    "sns.kdeplot(check_3p['rank_diff'], fill=True, label='Разность рангов 3P', color=(0.4,0.4,0.4))\n",
    "\n",
    "plt.legend()\n",
    "plt.xlim(left=-1500,right=1500)\n",
    "plt.ylim(top=0.0035)\n",
    "\n",
    "plt.show()"
   ]
  },
  {
   "cell_type": "markdown",
   "metadata": {},
   "source": [
    "Из графика уже становится очевидно, что отклонения для товаров из двух групп распределены не одинаково, при этом отклонения рангов для товаров Ozon в среднем находятся где-то в районе нуля, тогда как для товаров сторонних продавцов - значительно правее"
   ]
  },
  {
   "cell_type": "code",
   "execution_count": 22,
   "metadata": {},
   "outputs": [
    {
     "name": "stdout",
     "output_type": "stream",
     "text": [
      "39.666666666666664\n",
      "352.6109785202864\n"
     ]
    }
   ],
   "source": [
    "print(check_ozon[\"rank_diff\"].mean())\n",
    "print(check_3p[\"rank_diff\"].mean())"
   ]
  },
  {
   "cell_type": "markdown",
   "metadata": {},
   "source": [
    "Проведем формальные тесты, но для начала проверим, можно ли использовать t-тест:"
   ]
  },
  {
   "cell_type": "code",
   "execution_count": 24,
   "metadata": {},
   "outputs": [
    {
     "name": "stdout",
     "output_type": "stream",
     "text": [
      "Ozon - Статистика: 0.8396639823913574 , P-значение: 0.12953169643878937\n",
      "3P - Статистика: 0.9176534414291382 , P-значение: 2.3237264705749244e-14\n"
     ]
    }
   ],
   "source": [
    "statistic_ozon, p_value_ozon = stats.shapiro(check_ozon[\"rank_diff\"])\n",
    "statistic_3p, p_value_3p = stats.shapiro(check_3p[\"rank_diff\"])\n",
    "\n",
    "print(\"Ozon - Статистика:\", statistic_ozon,\", P-значение:\", p_value_ozon )\n",
    "print(\"3P - Статистика:\", statistic_3p, \", P-значение:\", p_value_3p)"
   ]
  },
  {
   "cell_type": "markdown",
   "metadata": {},
   "source": [
    "Лучше использовать тест критерий Уилкоксона:"
   ]
  },
  {
   "cell_type": "code",
   "execution_count": 26,
   "metadata": {},
   "outputs": [
    {
     "name": "stdout",
     "output_type": "stream",
     "text": [
      "Ozon - Статистика Уилкоксона: 7.0 , p-значение: 0.5625\n",
      "3P - Статистика Уилкоксона: 78446.0 , p-значение: 3.6525283997144305e-44\n"
     ]
    }
   ],
   "source": [
    "stat_ozon, p_value_ozon = stats.wilcoxon(check_ozon['rank_diff'], alternative='two-sided')\n",
    "stat_3p, p_value_3p = stats.wilcoxon(check_3p[\"rank_diff\"], alternative='greater')\n",
    "print(\"Ozon - Статистика Уилкоксона:\", stat_ozon, \", p-значение:\", p_value_ozon)\n",
    "print(\"3P - Статистика Уилкоксона:\", stat_3p, \", p-значение:\", p_value_3p)"
   ]
  },
  {
   "cell_type": "markdown",
   "metadata": {},
   "source": [
    "Итак, на любом разумном уровне значимости среднее отклонение предсказанных рангов от реальных рангов:   \n",
    "* Для товаров Ozon не отличается от 0    \n",
    "* Для товаров сторонних продавцов больше 0\n",
    "\n",
    "При использовании данного метода уверенность в результатах значительно выше, чем в случае использования наивного подхода, что не удивительно\n",
    "Существует статистически значимое занижение в поисковой выдаче товаров сторонних продавцов. Стоит ли беспокоиться? Сторонним продавцам - да. Но, согласно теоретико-игровой модели, разработанной в [моей работе](https://github.com/Seiron/coursework/edit/main/vkr.pdf), использование недобросовестных практик приводит к увеличению общесивенного благосостояния. \n",
    "\n"
   ]
  },
  {
   "cell_type": "code",
   "execution_count": 30,
   "metadata": {},
   "outputs": [],
   "source": [
    "check_ozon = check_ozon[check_ozon[\"price\"].notna()]\n",
    "check_3p = check_3p[check_3p[\"price\"].notna()]\n",
    "ozon_mean = check_ozon[['price', 'rating', 'num_ratings', 'black_friday', 'query',\n",
    "       'Super-товар', 'Доступность (%)',\n",
    "       'Количество складов отгрузки (шт.)', 'Доля рекламных расходов (%)',\n",
    "       'Продажи 28 дней']].mean()\n",
    "third_party_mean = check_3p[['price', 'rating', 'num_ratings', 'black_friday', 'query',\n",
    "       'Super-товар', 'Доступность (%)',\n",
    "       'Количество складов отгрузки (шт.)', 'Доля рекламных расходов (%)',\n",
    "       'Продажи 28 дней']].mean()\n"
   ]
  },
  {
   "cell_type": "code",
   "execution_count": 31,
   "metadata": {},
   "outputs": [
    {
     "name": "stdout",
     "output_type": "stream",
     "text": [
      "price                               2947.80\n",
      "rating                                 4.84\n",
      "num_ratings                           51.40\n",
      "black_friday                           1.00\n",
      "query                                  5.00\n",
      "Super-товар                            0.20\n",
      "Доступность (%)                        1.00\n",
      "Количество складов отгрузки (шт.)     10.80\n",
      "Доля рекламных расходов (%)            0.00\n",
      "Продажи 28 дней                     2851.05\n",
      "dtype: float64\n",
      "price                               2018.80\n",
      "rating                                 4.80\n",
      "num_ratings                          275.89\n",
      "black_friday                           0.42\n",
      "query                                  5.00\n",
      "Super-товар                            0.15\n",
      "Доступность (%)                        0.92\n",
      "Количество складов отгрузки (шт.)     12.52\n",
      "Доля рекламных расходов (%)            0.04\n",
      "Продажи 28 дней                     2642.54\n",
      "dtype: float64\n"
     ]
    }
   ],
   "source": [
    "pd.options.display.float_format = '{:.2f}'.format\n",
    "\n",
    "print(ozon_mean)\n",
    "print(third_party_mean)"
   ]
  },
  {
   "cell_type": "code",
   "execution_count": 34,
   "metadata": {},
   "outputs": [
    {
     "name": "stdout",
     "output_type": "stream",
     "text": [
      "Столбец: price\n",
      "t-статистика: 857.0\n",
      "p-значение: 0.49018546105753047\n",
      "Нет статистически значимого различия средних значений на 5% уровне значимости \n",
      "\n",
      "Столбец: rating\n",
      "t-статистика: 944.5\n",
      "p-значение: 0.6886304114847537\n",
      "Нет статистически значимого различия средних значений на 5% уровне значимости \n",
      "\n",
      "Столбец: num_ratings\n",
      "t-статистика: 1568.5\n",
      "p-значение: 0.05422101245538759\n",
      "Нет статистически значимого различия средних значений на 5% уровне значимости \n",
      "\n",
      "Столбец: black_friday\n",
      "t-статистика: 440.0\n",
      "p-значение: 0.009438545030404259\n",
      "Различие средних значений статистически значимо на 5% уровне значимости \n",
      "\n",
      "Столбец: query\n",
      "t-статистика: 1045.0\n",
      "p-значение: 1.0\n",
      "Нет статистически значимого различия средних значений на 5% уровне значимости \n",
      "\n",
      "Столбец: Super-товар\n",
      "t-статистика: 988.5\n",
      "p-значение: 0.7365717770148912\n",
      "Нет статистически значимого различия средних значений на 5% уровне значимости \n",
      "\n",
      "Столбец: Доступность (%)\n",
      "t-статистика: 740.0\n",
      "p-значение: 0.16113127399597038\n",
      "Нет статистически значимого различия средних значений на 5% уровне значимости \n",
      "\n",
      "Столбец: Количество складов отгрузки (шт.)\n",
      "t-статистика: 1115.0\n",
      "p-значение: 0.7975739482691121\n",
      "Нет статистически значимого различия средних значений на 5% уровне значимости \n",
      "\n",
      "Столбец: Доля рекламных расходов (%)\n",
      "t-статистика: 1555.0\n",
      "p-значение: 0.04334754091760436\n",
      "Различие средних значений статистически значимо на 5% уровне значимости \n",
      "\n",
      "Столбец: Продажи 28 дней\n",
      "t-статистика: 1033.0\n",
      "p-значение: 0.9662439477949207\n",
      "Нет статистически значимого различия средних значений на 5% уровне значимости \n",
      "\n"
     ]
    }
   ],
   "source": [
    "columns_to_test = ['price', 'rating', 'num_ratings', 'black_friday', 'query',\n",
    "       'Super-товар', 'Доступность (%)',\n",
    "       'Количество складов отгрузки (шт.)', 'Доля рекламных расходов (%)',\n",
    "       'Продажи 28 дней']\n",
    "for column in columns_to_test:\n",
    "    statistic, p_value = stats.mannwhitneyu(check_3p[check_3p.notna()][column], check_ozon[check_ozon.notna()][column])\n",
    "    \n",
    "    # Печать результатов\n",
    "    print(\"Столбец:\", column)\n",
    "    print(\"t-статистика:\", statistic)\n",
    "    print(\"p-значение:\", p_value)\n",
    "    if p_value < 0.05:\n",
    "        print(\"Различие средних значений статистически значимо на 5% уровне значимости\",\"\\n\")\n",
    "    else:\n",
    "        print(\"Нет статистически значимого различия средних значений на 5% уровне значимости\",\"\\n\")"
   ]
  }
 ],
 "metadata": {
  "kernelspec": {
   "display_name": "base",
   "language": "python",
   "name": "python3"
  },
  "language_info": {
   "codemirror_mode": {
    "name": "ipython",
    "version": 3
   },
   "file_extension": ".py",
   "mimetype": "text/x-python",
   "name": "python",
   "nbconvert_exporter": "python",
   "pygments_lexer": "ipython3",
   "version": "3.11.7"
  }
 },
 "nbformat": 4,
 "nbformat_minor": 2
}
